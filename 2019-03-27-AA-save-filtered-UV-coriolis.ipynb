{
 "cells": [
  {
   "cell_type": "code",
   "execution_count": 1,
   "metadata": {},
   "outputs": [],
   "source": [
    "import cartopy"
   ]
  },
  {
   "cell_type": "code",
   "execution_count": 20,
   "metadata": {},
   "outputs": [],
   "source": [
    "import xarray as xr\n",
    "import sys\n",
    "sys.path.insert(0,\"/home/albert/lib/python\")\n",
    "\n",
    "from netCDF4 import Dataset\n",
    "\n",
    "import numpy as np\n",
    "sys.path.insert(0,\"/home/albert/Work/git/xscale\")\n",
    "import xscale\n",
    "import xscale.spectral.fft as xfft\n",
    "from matplotlib.colors import LogNorm\n",
    "import cmocean\n",
    "import matplotlib.pylab as plt\n",
    "import glob\n",
    "from datetime import date\n",
    "\n",
    "import cartopy.crs as ccrs\n",
    "import cartopy.feature as cfeature\n",
    "from cartopy.mpl.gridliner import LONGITUDE_FORMATTER, LATITUDE_FORMATTER"
   ]
  },
  {
   "cell_type": "code",
   "execution_count": 29,
   "metadata": {},
   "outputs": [],
   "source": [
    "fileUtide=\"/mnt/albert/equipes/IGE/meom/MODEL_SET/eNATL60/eNATL60-BLBT02-S/1h/ACO/eNATL60ACO-BLBT02_1h_20090710_20090809_gridU-2D.nc\"\n",
    "fileVtide=\"/mnt/albert/equipes/IGE/meom/MODEL_SET/eNATL60/eNATL60-BLBT02-S/1h/ACO/eNATL60ACO-BLBT02_1h_20090710_20090809_gridV-2D.nc\"\n",
    "\n",
    "fileUnotide=\"/mnt/albert/equipes/IGE/meom/MODEL_SET/eNATL60/eNATL60-BLB002-S/1h/ACO/eNATL60ACO-BLB002_1h_20090710_20090809_gridU-2D.nc\"\n",
    "fileVnotide=\"/mnt/albert/equipes/IGE/meom/MODEL_SET/eNATL60/eNATL60-BLB002-S/1h/ACO/eNATL60ACO-BLB002_1h_20090710_20090809_gridV-2D.nc\"\n"
   ]
  },
  {
   "cell_type": "code",
   "execution_count": 31,
   "metadata": {},
   "outputs": [],
   "source": [
    "fUtide = xr.open_mfdataset(fileUtide,chunks={'x':500,'y':500})\n",
    "Utide=fUtide['sozocrtx'][:]\n",
    "navlat= fUtide['nav_lat'][0]\n",
    "navlon= fUtide['nav_lon'][0]\n",
    "\n",
    "fUnotide = xr.open_mfdataset(fileUnotide,chunks={'x':500,'y':500})\n",
    "Unotide=fUnotide['sozocrtx'][:]\n",
    "\n",
    "fVtide = xr.open_mfdataset(fileVtide,chunks={'x':500,'y':500})\n",
    "Vtide=fVtide['somecrty'][:]\n",
    "\n",
    "fVnotide = xr.open_mfdataset(fileVnotide,chunks={'x':500,'y':500})\n",
    "Vnotide=fVnotide['somecrty'][:]\n"
   ]
  },
  {
   "cell_type": "code",
   "execution_count": 32,
   "metadata": {},
   "outputs": [],
   "source": [
    "T=2*np.pi/(1E-4)"
   ]
  },
  {
   "cell_type": "code",
   "execution_count": 33,
   "metadata": {},
   "outputs": [],
   "source": [
    "wutide=Utide.window\n",
    "wutide.set(n=30,dim='time_counter', cutoff=T)\n",
    "Utidefilt=wutide.convolve()"
   ]
  },
  {
   "cell_type": "code",
   "execution_count": 34,
   "metadata": {},
   "outputs": [],
   "source": [
    "wunotide=Unotide.window\n",
    "wunotide.set(n=30,dim='time_counter', cutoff=T)\n",
    "Unotidefilt=wunotide.convolve()"
   ]
  },
  {
   "cell_type": "code",
   "execution_count": 35,
   "metadata": {},
   "outputs": [],
   "source": [
    "wvtide=Vtide.window\n",
    "wvtide.set(n=30,dim='time_counter', cutoff=T)\n",
    "Vtidefilt=wvtide.convolve()"
   ]
  },
  {
   "cell_type": "code",
   "execution_count": 36,
   "metadata": {},
   "outputs": [],
   "source": [
    "wvnotide=Vnotide.window\n",
    "wvnotide.set(n=30,dim='time_counter', cutoff=T)\n",
    "Vnotidefilt=wvnotide.convolve()"
   ]
  },
  {
   "cell_type": "code",
   "execution_count": 38,
   "metadata": {},
   "outputs": [],
   "source": [
    "in_Utide_filt=fileUtide\n",
    "dstin=Dataset(in_Utide_filt,'r')\n",
    "out_Utide_filt='eNATL60ACO-BLBT02_1h_20090710_20090809_gridU-2D_filt.nc'\n",
    "dstout=Dataset(dirfilttide+out_Utide_filt,'w')\n",
    "\n",
    "varname='sozocrtx'\n",
    "\n",
    "today=date.today()\n",
    "dstout.description = \"Data time filtered with Lanczos filter with window size of \"+str(30)+\" and cut-off frequency of \"+str(T)+\" obtained \"+str(today.day)+\"/\"+str(today.month)+\"/\"+str(today.year)\n",
    "\n",
    "for dname, the_dim in dstin.dimensions.iteritems():\n",
    "    dstout.createDimension(dname, len(the_dim) if not the_dim.isunlimited() else None)\n",
    "\n",
    "for v_name, varin in dstin.variables.iteritems():\n",
    "    if v_name == varname:\n",
    "        continue\n",
    "    outVar = dstout.createVariable(v_name, varin.datatype, varin.dimensions)\n",
    "    outVar.setncatts({k: varin.getncattr(k) for k in varin.ncattrs()})\n",
    "    outVar[:] = varin[:]\n",
    "\n",
    "datain=dstin[varname]\n",
    "dataout=dstout.createVariable(varname+'_filt',datain.datatype,datain.dimensions)\n",
    "dataout.setncatts({k: datain.getncattr(k) for k in datain.ncattrs()})\n",
    "\n",
    "ztemp=np.zeros(datain.shape)\n",
    "ztemp[:]=Utidefilt[:]\n",
    "    \n",
    "dataout[:]=ztemp[:]\n",
    "dstout.close()"
   ]
  },
  {
   "cell_type": "code",
   "execution_count": 39,
   "metadata": {},
   "outputs": [],
   "source": [
    "in_Vtide_filt=fileVtide\n",
    "dstin=Dataset(in_Vtide_filt,'r')\n",
    "out_Vtide_filt='eNATL60ACO-BLBT02_1h_20090710_20090809_gridV-2D_filt.nc'\n",
    "dstout=Dataset(dirfilttide+out_Vtide_filt,'w')\n",
    "\n",
    "varname='somecrty'\n",
    "\n",
    "today=date.today()\n",
    "dstout.description = \"Data time filtered with Lanczos filter with window size of \"+str(30)+\" and cut-off frequency of \"+str(T)+\" obtained \"+str(today.day)+\"/\"+str(today.month)+\"/\"+str(today.year)\n",
    "\n",
    "for dname, the_dim in dstin.dimensions.iteritems():\n",
    "    dstout.createDimension(dname, len(the_dim) if not the_dim.isunlimited() else None)\n",
    "\n",
    "for v_name, varin in dstin.variables.iteritems():\n",
    "    if v_name == varname:\n",
    "        continue\n",
    "    outVar = dstout.createVariable(v_name, varin.datatype, varin.dimensions)\n",
    "    outVar.setncatts({k: varin.getncattr(k) for k in varin.ncattrs()})\n",
    "    outVar[:] = varin[:]\n",
    "\n",
    "datain=dstin[varname]\n",
    "dataout=dstout.createVariable(varname+'_filt',datain.datatype,datain.dimensions)\n",
    "dataout.setncatts({k: datain.getncattr(k) for k in datain.ncattrs()})\n",
    "\n",
    "ztemp=np.zeros(datain.shape)\n",
    "ztemp[:]=Vtidefilt[:]\n",
    "    \n",
    "dataout[:]=ztemp[:]\n",
    "dstout.close()"
   ]
  },
  {
   "cell_type": "code",
   "execution_count": 40,
   "metadata": {},
   "outputs": [],
   "source": [
    "in_Unotide_filt=fileUnotide\n",
    "dstin=Dataset(in_Unotide_filt,'r')\n",
    "out_Unotide_filt='eNATL60ACO-BLB002_1h_20090710_20090809_gridU-2D_filt.nc'\n",
    "dstout=Dataset(dirfiltnotide+out_Unotide_filt,'w')\n",
    "\n",
    "varname='sozocrtx'\n",
    "\n",
    "today=date.today()\n",
    "dstout.description = \"Data time filtered with Lanczos filter with window size of \"+str(30)+\" and cut-off frequency of \"+str(T)+\" obtained \"+str(today.day)+\"/\"+str(today.month)+\"/\"+str(today.year)\n",
    "\n",
    "for dname, the_dim in dstin.dimensions.iteritems():\n",
    "    dstout.createDimension(dname, len(the_dim) if not the_dim.isunlimited() else None)\n",
    "\n",
    "for v_name, varin in dstin.variables.iteritems():\n",
    "    if v_name == varname:\n",
    "        continue\n",
    "    outVar = dstout.createVariable(v_name, varin.datatype, varin.dimensions)\n",
    "    outVar.setncatts({k: varin.getncattr(k) for k in varin.ncattrs()})\n",
    "    outVar[:] = varin[:]\n",
    "\n",
    "datain=dstin[varname]\n",
    "dataout=dstout.createVariable(varname+'_filt',datain.datatype,datain.dimensions)\n",
    "dataout.setncatts({k: datain.getncattr(k) for k in datain.ncattrs()})\n",
    "\n",
    "ztemp=np.zeros(datain.shape)\n",
    "ztemp[:]=Unotidefilt[:]\n",
    "    \n",
    "dataout[:]=ztemp[:]\n",
    "dstout.close()"
   ]
  },
  {
   "cell_type": "code",
   "execution_count": 41,
   "metadata": {},
   "outputs": [],
   "source": [
    "in_Vnotide_filt=fileVnotide\n",
    "dstin=Dataset(in_Vnotide_filt,'r')\n",
    "out_Vnotide_filt='eNATL60ACO-BLB002_1h_20090710_20090809_gridV-2D_filt.nc'\n",
    "dstout=Dataset(dirfiltnotide+out_Vnotide_filt,'w')\n",
    "\n",
    "varname='somecrty'\n",
    "\n",
    "today=date.today()\n",
    "dstout.description = \"Data time filtered with Lanczos filter with window size of \"+str(30)+\" and cut-off frequency of \"+str(T)+\" obtained \"+str(today.day)+\"/\"+str(today.month)+\"/\"+str(today.year)\n",
    "\n",
    "for dname, the_dim in dstin.dimensions.iteritems():\n",
    "    dstout.createDimension(dname, len(the_dim) if not the_dim.isunlimited() else None)\n",
    "\n",
    "for v_name, varin in dstin.variables.iteritems():\n",
    "    if v_name == varname:\n",
    "        continue\n",
    "    outVar = dstout.createVariable(v_name, varin.datatype, varin.dimensions)\n",
    "    outVar.setncatts({k: varin.getncattr(k) for k in varin.ncattrs()})\n",
    "    outVar[:] = varin[:]\n",
    "\n",
    "datain=dstin[varname]\n",
    "dataout=dstout.createVariable(varname+'_filt',datain.datatype,datain.dimensions)\n",
    "dataout.setncatts({k: datain.getncattr(k) for k in datain.ncattrs()})\n",
    "\n",
    "ztemp=np.zeros(datain.shape)\n",
    "ztemp[:]=Vnotidefilt[:]\n",
    "    \n",
    "dataout[:]=ztemp[:]\n",
    "dstout.close()"
   ]
  },
  {
   "cell_type": "code",
   "execution_count": null,
   "metadata": {},
   "outputs": [],
   "source": []
  }
 ],
 "metadata": {
  "kernelspec": {
   "display_name": "Python [Root]",
   "language": "python",
   "name": "Python [Root]"
  },
  "language_info": {
   "codemirror_mode": {
    "name": "ipython",
    "version": 2
   },
   "file_extension": ".py",
   "mimetype": "text/x-python",
   "name": "python",
   "nbconvert_exporter": "python",
   "pygments_lexer": "ipython2",
   "version": "2.7.15"
  }
 },
 "nbformat": 4,
 "nbformat_minor": 2
}
