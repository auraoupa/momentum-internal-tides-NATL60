{
 "cells": [
  {
   "cell_type": "code",
   "execution_count": 1,
   "metadata": {},
   "outputs": [
    {
     "name": "stderr",
     "output_type": "stream",
     "text": [
      "/home/albert/anaconda2/lib/python2.7/site-packages/cmocean/tools.py:76: MatplotlibDeprecationWarning: The is_string_like function was deprecated in version 2.1.\n",
      "  if not mpl.cbook.is_string_like(rgbin[0]):\n"
     ]
    }
   ],
   "source": [
    "import xarray as xr\n",
    "import sys\n",
    "\n",
    "import numpy as np\n",
    "from matplotlib.colors import LogNorm\n",
    "import cmocean\n",
    "import matplotlib.pylab as plt\n",
    "\n",
    "import cartopy.crs as ccrs\n",
    "import cartopy.feature as cfeature\n",
    "from cartopy.mpl.gridliner import LONGITUDE_FORMATTER, LATITUDE_FORMATTER\n"
   ]
  },
  {
   "cell_type": "code",
   "execution_count": 2,
   "metadata": {},
   "outputs": [
    {
     "data": {
      "text/plain": [
       "<xarray.Dataset>\n",
       "Dimensions:       (t: 1, x: 8354, y: 4729, z: 300)\n",
       "Dimensions without coordinates: t, x, y, z\n",
       "Data variables:\n",
       "    nav_lon       (y, x) float32 dask.array<shape=(4729, 8354), chunksize=(4729, 8354)>\n",
       "    nav_lat       (y, x) float32 dask.array<shape=(4729, 8354), chunksize=(4729, 8354)>\n",
       "    nav_lev       (z) float32 dask.array<shape=(300,), chunksize=(300,)>\n",
       "    time_counter  (t) float64 dask.array<shape=(1,), chunksize=(1,)>\n",
       "    tmask         (t, z, y, x) int8 dask.array<shape=(1, 300, 4729, 8354), chunksize=(1, 300, 4729, 8354)>\n",
       "    umask         (t, z, y, x) int8 dask.array<shape=(1, 300, 4729, 8354), chunksize=(1, 300, 4729, 8354)>\n",
       "    vmask         (t, z, y, x) int8 dask.array<shape=(1, 300, 4729, 8354), chunksize=(1, 300, 4729, 8354)>\n",
       "    fmask         (t, z, y, x) int8 dask.array<shape=(1, 300, 4729, 8354), chunksize=(1, 300, 4729, 8354)>\n",
       "    tmaskutil     (t, y, x) int8 dask.array<shape=(1, 4729, 8354), chunksize=(1, 4729, 8354)>\n",
       "    umaskutil     (t, y, x) int8 dask.array<shape=(1, 4729, 8354), chunksize=(1, 4729, 8354)>\n",
       "    vmaskutil     (t, y, x) int8 dask.array<shape=(1, 4729, 8354), chunksize=(1, 4729, 8354)>\n",
       "    fmaskutil     (t, y, x) int8 dask.array<shape=(1, 4729, 8354), chunksize=(1, 4729, 8354)>\n",
       "    glamt         (t, y, x) float32 dask.array<shape=(1, 4729, 8354), chunksize=(1, 4729, 8354)>\n",
       "    glamu         (t, y, x) float32 dask.array<shape=(1, 4729, 8354), chunksize=(1, 4729, 8354)>\n",
       "    glamv         (t, y, x) float32 dask.array<shape=(1, 4729, 8354), chunksize=(1, 4729, 8354)>\n",
       "    glamf         (t, y, x) float32 dask.array<shape=(1, 4729, 8354), chunksize=(1, 4729, 8354)>\n",
       "    gphit         (t, y, x) float32 dask.array<shape=(1, 4729, 8354), chunksize=(1, 4729, 8354)>\n",
       "    gphiu         (t, y, x) float32 dask.array<shape=(1, 4729, 8354), chunksize=(1, 4729, 8354)>\n",
       "    gphiv         (t, y, x) float32 dask.array<shape=(1, 4729, 8354), chunksize=(1, 4729, 8354)>\n",
       "    gphif         (t, y, x) float32 dask.array<shape=(1, 4729, 8354), chunksize=(1, 4729, 8354)>\n",
       "    e1t           (t, y, x) float64 dask.array<shape=(1, 4729, 8354), chunksize=(1, 4729, 8354)>\n",
       "    e1u           (t, y, x) float64 dask.array<shape=(1, 4729, 8354), chunksize=(1, 4729, 8354)>\n",
       "    e1v           (t, y, x) float64 dask.array<shape=(1, 4729, 8354), chunksize=(1, 4729, 8354)>\n",
       "    e1f           (t, y, x) float64 dask.array<shape=(1, 4729, 8354), chunksize=(1, 4729, 8354)>\n",
       "    e2t           (t, y, x) float64 dask.array<shape=(1, 4729, 8354), chunksize=(1, 4729, 8354)>\n",
       "    e2u           (t, y, x) float64 dask.array<shape=(1, 4729, 8354), chunksize=(1, 4729, 8354)>\n",
       "    e2v           (t, y, x) float64 dask.array<shape=(1, 4729, 8354), chunksize=(1, 4729, 8354)>\n",
       "    e2f           (t, y, x) float64 dask.array<shape=(1, 4729, 8354), chunksize=(1, 4729, 8354)>\n",
       "    ff            (t, y, x) float64 dask.array<shape=(1, 4729, 8354), chunksize=(1, 4729, 8354)>\n",
       "    mbathy        (t, y, x) int16 dask.array<shape=(1, 4729, 8354), chunksize=(1, 4729, 8354)>\n",
       "    misf          (t, y, x) int16 dask.array<shape=(1, 4729, 8354), chunksize=(1, 4729, 8354)>\n",
       "    isfdraft      (t, y, x) float32 dask.array<shape=(1, 4729, 8354), chunksize=(1, 4729, 8354)>\n",
       "    e3t_0         (t, z, y, x) float64 dask.array<shape=(1, 300, 4729, 8354), chunksize=(1, 300, 4729, 8354)>\n",
       "    e3u_0         (t, z, y, x) float64 dask.array<shape=(1, 300, 4729, 8354), chunksize=(1, 300, 4729, 8354)>\n",
       "    e3v_0         (t, z, y, x) float64 dask.array<shape=(1, 300, 4729, 8354), chunksize=(1, 300, 4729, 8354)>\n",
       "    e3w_0         (t, z, y, x) float64 dask.array<shape=(1, 300, 4729, 8354), chunksize=(1, 300, 4729, 8354)>\n",
       "    gdept_0       (t, z, y, x) float32 dask.array<shape=(1, 300, 4729, 8354), chunksize=(1, 300, 4729, 8354)>\n",
       "    gdepu         (t, z, y, x) float32 dask.array<shape=(1, 300, 4729, 8354), chunksize=(1, 300, 4729, 8354)>\n",
       "    gdepv         (t, z, y, x) float32 dask.array<shape=(1, 300, 4729, 8354), chunksize=(1, 300, 4729, 8354)>\n",
       "    gdepw_0       (t, z, y, x) float32 dask.array<shape=(1, 300, 4729, 8354), chunksize=(1, 300, 4729, 8354)>\n",
       "    gdept_1d      (t, z) float64 dask.array<shape=(1, 300), chunksize=(1, 300)>\n",
       "    gdepw_1d      (t, z) float64 dask.array<shape=(1, 300), chunksize=(1, 300)>\n",
       "    e3t_1d        (t, z) float64 dask.array<shape=(1, 300), chunksize=(1, 300)>\n",
       "    e3w_1d        (t, z) float64 dask.array<shape=(1, 300), chunksize=(1, 300)>\n",
       "Attributes:\n",
       "    file_name:  mesh_mask.nc\n",
       "    TimeStamp:  13/07/2018 22:32:53 +0200"
      ]
     },
     "execution_count": 2,
     "metadata": {},
     "output_type": "execute_result"
    }
   ],
   "source": [
    "gridfile=\"/mnt/albert/equipes/IGE/meom/workdir/albert/eNATL60/eNATL60-I/mesh_mask_eNATL60_3.6.nc\"\n",
    "dsgrid=xr.open_mfdataset(gridfile)\n",
    "dsgrid"
   ]
  },
  {
   "cell_type": "code",
   "execution_count": 3,
   "metadata": {},
   "outputs": [],
   "source": [
    "dep=np.squeeze(dsgrid.gdept_1d)"
   ]
  },
  {
   "cell_type": "code",
   "execution_count": 4,
   "metadata": {},
   "outputs": [],
   "source": [
    "lev=np.max(np.where(dep<4000))"
   ]
  },
  {
   "cell_type": "code",
   "execution_count": 5,
   "metadata": {},
   "outputs": [
    {
     "name": "stdout",
     "output_type": "stream",
     "text": [
      "240\n"
     ]
    }
   ],
   "source": [
    "print lev"
   ]
  },
  {
   "cell_type": "code",
   "execution_count": 6,
   "metadata": {},
   "outputs": [
    {
     "name": "stdout",
     "output_type": "stream",
     "text": [
      "3987.994098631107\n"
     ]
    }
   ],
   "source": [
    "print dep.values[lev]"
   ]
  },
  {
   "cell_type": "code",
   "execution_count": 7,
   "metadata": {},
   "outputs": [
    {
     "name": "stdout",
     "output_type": "stream",
     "text": [
      "4014.5353572275512\n"
     ]
    }
   ],
   "source": [
    "print dep.values[lev+1]"
   ]
  },
  {
   "cell_type": "code",
   "execution_count": null,
   "metadata": {},
   "outputs": [],
   "source": []
  }
 ],
 "metadata": {
  "kernelspec": {
   "display_name": "Python [Root]",
   "language": "python",
   "name": "Python [Root]"
  },
  "language_info": {
   "codemirror_mode": {
    "name": "ipython",
    "version": 2
   },
   "file_extension": ".py",
   "mimetype": "text/x-python",
   "name": "python",
   "nbconvert_exporter": "python",
   "pygments_lexer": "ipython2",
   "version": "2.7.15"
  }
 },
 "nbformat": 4,
 "nbformat_minor": 2
}
