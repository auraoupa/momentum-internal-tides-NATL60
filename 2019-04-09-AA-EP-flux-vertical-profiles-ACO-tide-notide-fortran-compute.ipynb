{
 "cells": [
  {
   "cell_type": "markdown",
   "metadata": {},
   "source": [
    "# Vertical profiles of Eliassen-Palm flux in Acores region for tide and no-tide simulations\n",
    "\n",
    "__author__ : Aurélie Albert, Julien Le Sommer (MEOM), Andy Hogg (ANU)\n",
    "\n",
    "__context__ : paper \"On the momentum flux of internal tides\" by Shakespeare & Hogg\n",
    "\n",
    "__date__ : April 2019\n",
    "\n",
    "__purpose__ : Vertical profiles of Eliassen-Palm flux in Acores region for tide and no-tide simulations, a plot similar to FIG 8 from the paper by Shakespeare & Hogg\n",
    "\n",
    "__detailed description__ : \n",
    "Eliassen-Plam flux is defined as :\n",
    "\n",
    "$$F_{EP} = (\\tilde{u} \\tilde{w} - \\frac{f \\tilde{v} \\tilde{b} }{N^2}, \\tilde{v} \\tilde{w} + \\frac{f \\tilde{u} \\tilde{b} }{N^2},0) $$\n",
    "\n",
    "where $\\tilde{u}$ is the wave component of u\n",
    "\n",
    "\n",
    "__practical steps__ :\n",
    "\n",
    "  * Input data are hourly surface currents from eNATL60-BLB002 simulation (no-tide) and eNATL60-BLBT02 simulation (tide) between 2009, July 10 and August 9.\n",
    "  \n",
    "  * T, S, U, V, W are extracted in the Acores region and on levels 100m, 200m, 300m, 400m, 500m, 1000m, 1500m, 2000m, 2500m, 3000m, 3500m.\n",
    "  \n",
    "  * Buoyancy and $N^2$ is computed from T and S on the same levels\n",
    "  \n",
    "  * Frequency smaller than Coriolis (~17h) are filtered to keep the wave part of the signal for U, V, W, B\n",
    "  \n",
    "  * Zonal and Meridional component of the EP flux is computed for each levels and vertical profiles are plotted\n",
    " \n",
    "__licence__ : This work is licensed under a <a rel=\"license\" href=\"http://creativecommons.org/licenses/by/4.0/\">Creative Commons Attribution 4.0 International License</a>."
   ]
  },
  {
   "cell_type": "code",
   "execution_count": 1,
   "metadata": {},
   "outputs": [],
   "source": [
    "## path for mdules\n",
    "\n",
    "import sys\n",
    "sys.path.insert(0,\"/home/albert/lib/python\")\n",
    "\n",
    "import numpy as np\n",
    "import xarray as xr\n",
    "import glob\n",
    "\n",
    "from netCDF4 import Dataset\n",
    "\n",
    "sys.path.insert(0,\"/home/albert/Work/git/xscale\")\n",
    "import xscale\n",
    "import xscale.spectral.fft as xfft\n",
    "\n",
    "import cartopy.crs as ccrs\n",
    "import cartopy.feature as cfeature\n",
    "from cartopy.mpl.gridliner import LONGITUDE_FORMATTER, LATITUDE_FORMATTER\n",
    "\n",
    "import numpy.ma as ma\n",
    "\n",
    "import matplotlib.cm as mplcm\n",
    "\n",
    "seq_cmap = mplcm.Blues\n",
    "div_cmap = mplcm.seismic\n",
    "\n",
    "import matplotlib.pyplot as plt\n",
    "from datetime import date\n",
    "from matplotlib import gridspec\n",
    "\n",
    "\n",
    "%matplotlib inline"
   ]
  },
  {
   "cell_type": "code",
   "execution_count": 2,
   "metadata": {},
   "outputs": [],
   "source": [
    "#Datasets\n",
    "\n",
    "#tide simulation\n",
    "dirtide='/mnt/albert/equipes/IGE/meom/workdir/albert/eNATL60/eNATL60-BLBT02-S/1h/ACO/'\n",
    "\n",
    "fileEPwavetide0m=dirtide+'eNATL60ACO-BLBT02_1h_EPflux0m_20090710-20090809_filt-n48-f76035.7005445.nc'\n",
    "fileEPwavetide100m=dirtide+'eNATL60ACO-BLBT02_1h_EPflux100m_20090710-20090809_filt-n48-f76035.7005445.nc'\n",
    "fileEPwavetide200m=dirtide+'eNATL60ACO-BLBT02_1h_EPflux200m_20090710-20090809_filt-n48-f76035.7005445.nc'\n",
    "fileEPwavetide300m=dirtide+'eNATL60ACO-BLBT02_1h_EPflux300m_20090710-20090809_filt-n48-f76035.7005445.nc'\n",
    "fileEPwavetide400m=dirtide+'eNATL60ACO-BLBT02_1h_EPflux400m_20090710-20090809_filt-n48-f76035.7005445.nc'\n",
    "fileEPwavetide500m=dirtide+'eNATL60ACO-BLBT02_1h_EPflux500m_20090710-20090809_filt-n48-f76035.7005445.nc'\n",
    "fileEPwavetide1000m=dirtide+'eNATL60ACO-BLBT02_1h_EPflux1000m_20090710-20090809_filt-n48-f76035.7005445.nc'\n",
    "fileEPwavetide1500m=dirtide+'eNATL60ACO-BLBT02_1h_EPflux1500m_20090710-20090809_filt-n48-f76035.7005445.nc'\n",
    "fileEPwavetide2000m=dirtide+'eNATL60ACO-BLBT02_1h_EPflux2000m_20090710-20090809_filt-n48-f76035.7005445.nc'\n",
    "fileEPwavetide2500m=dirtide+'eNATL60ACO-BLBT02_1h_EPflux2500m_20090710-20090809_filt-n48-f76035.7005445.nc'\n",
    "fileEPwavetide3000m=dirtide+'eNATL60ACO-BLBT02_1h_EPflux3000m_20090710-20090809_filt-n48-f76035.7005445.nc'\n",
    "fileEPwavetide3500m=dirtide+'eNATL60ACO-BLBT02_1h_EPflux3500m_20090710-20090809_filt-n48-f76035.7005445.nc'\n",
    "\n",
    "#no tide simulation\n",
    "dirnotide='/mnt/albert/equipes/IGE/meom/workdir/albert/eNATL60/eNATL60-BLB002-S/1h/ACO/'\n",
    "\n",
    "fileEPwavenotide0m=dirnotide+'eNATL60ACO-BLB002_1h_EPflux0m_20090710-20090809_filt-n48-f76035.7005445.nc'\n",
    "fileEPwavenotide100m=dirnotide+'eNATL60ACO-BLB002_1h_EPflux100m_20090710-20090809_filt-n48-f76035.7005445.nc'\n",
    "fileEPwavenotide200m=dirnotide+'eNATL60ACO-BLB002_1h_EPflux200m_20090710-20090809_filt-n48-f76035.7005445.nc'\n",
    "fileEPwavenotide300m=dirnotide+'eNATL60ACO-BLB002_1h_EPflux300m_20090710-20090809_filt-n48-f76035.7005445.nc'\n",
    "fileEPwavenotide400m=dirnotide+'eNATL60ACO-BLB002_1h_EPflux400m_20090710-20090809_filt-n48-f76035.7005445.nc'\n",
    "fileEPwavenotide500m=dirnotide+'eNATL60ACO-BLB002_1h_EPflux500m_20090710-20090809_filt-n48-f76035.7005445.nc'\n",
    "fileEPwavenotide1000m=dirnotide+'eNATL60ACO-BLB002_1h_EPflux1000m_20090710-20090809_filt-n48-f76035.7005445.nc'\n",
    "fileEPwavenotide1500m=dirnotide+'eNATL60ACO-BLB002_1h_EPflux1500m_20090710-20090809_filt-n48-f76035.7005445.nc'\n",
    "fileEPwavenotide2000m=dirnotide+'eNATL60ACO-BLB002_1h_EPflux2000m_20090710-20090809_filt-n48-f76035.7005445.nc'\n",
    "fileEPwavenotide2500m=dirnotide+'eNATL60ACO-BLB002_1h_EPflux2500m_20090710-20090809_filt-n48-f76035.7005445.nc'\n",
    "fileEPwavenotide3000m=dirnotide+'eNATL60ACO-BLB002_1h_EPflux3000m_20090710-20090809_filt-n48-f76035.7005445.nc'\n",
    "fileEPwavenotide3500m=dirnotide+'eNATL60ACO-BLB002_1h_EPflux3500m_20090710-20090809_filt-n48-f76035.7005445.nc'\n"
   ]
  },
  {
   "cell_type": "code",
   "execution_count": 3,
   "metadata": {},
   "outputs": [],
   "source": [
    "dsEPwavetide0m=xr.open_dataset(fileEPwavetide0m,chunks={'x':500,'y':500})\n",
    "dsEPwavetide100m=xr.open_dataset(fileEPwavetide100m,chunks={'x':500,'y':500})\n",
    "dsEPwavetide200m=xr.open_dataset(fileEPwavetide200m,chunks={'x':500,'y':500})\n",
    "dsEPwavetide300m=xr.open_dataset(fileEPwavetide300m,chunks={'x':500,'y':500})\n",
    "dsEPwavetide400m=xr.open_dataset(fileEPwavetide400m,chunks={'x':500,'y':500})\n",
    "dsEPwavetide500m=xr.open_dataset(fileEPwavetide500m,chunks={'x':500,'y':500})\n",
    "dsEPwavetide1000m=xr.open_dataset(fileEPwavetide1000m,chunks={'x':500,'y':500})\n",
    "#dsEPwavetide1500m=xr.open_dataset(fileEPwavetide1500m,chunks={'x':500,'y':500})\n",
    "dsEPwavetide2000m=xr.open_dataset(fileEPwavetide2000m,chunks={'x':500,'y':500})\n",
    "dsEPwavetide2500m=xr.open_dataset(fileEPwavetide2500m,chunks={'x':500,'y':500})\n",
    "dsEPwavetide3000m=xr.open_dataset(fileEPwavetide3000m,chunks={'x':500,'y':500})\n",
    "dsEPwavetide3500m=xr.open_dataset(fileEPwavetide3500m,chunks={'x':500,'y':500})\n",
    "\n"
   ]
  },
  {
   "cell_type": "code",
   "execution_count": 4,
   "metadata": {},
   "outputs": [],
   "source": [
    "dsEPwavenotide0m=xr.open_dataset(fileEPwavenotide0m,chunks={'x':500,'y':500})\n",
    "dsEPwavenotide100m=xr.open_dataset(fileEPwavenotide100m,chunks={'x':500,'y':500})\n",
    "dsEPwavenotide200m=xr.open_dataset(fileEPwavenotide200m,chunks={'x':500,'y':500})\n",
    "dsEPwavenotide300m=xr.open_dataset(fileEPwavenotide300m,chunks={'x':500,'y':500})\n",
    "dsEPwavenotide400m=xr.open_dataset(fileEPwavenotide400m,chunks={'x':500,'y':500})\n",
    "dsEPwavenotide500m=xr.open_dataset(fileEPwavenotide500m,chunks={'x':500,'y':500})\n",
    "dsEPwavenotide1000m=xr.open_dataset(fileEPwavenotide1000m,chunks={'x':500,'y':500})\n",
    "#dsEPwavenotide1500m=xr.open_dataset(fileEPwavenotide1500m,chunks={'x':500,'y':500})\n",
    "dsEPwavenotide2000m=xr.open_dataset(fileEPwavenotide2000m,chunks={'x':500,'y':500})\n",
    "dsEPwavenotide2500m=xr.open_dataset(fileEPwavenotide2500m,chunks={'x':500,'y':500})\n",
    "dsEPwavenotide3000m=xr.open_dataset(fileEPwavenotide3000m,chunks={'x':500,'y':500})\n",
    "dsEPwavenotide3500m=xr.open_dataset(fileEPwavenotide3500m,chunks={'x':500,'y':500})\n"
   ]
  },
  {
   "cell_type": "code",
   "execution_count": 5,
   "metadata": {},
   "outputs": [],
   "source": [
    "xEPwavetide0m=1000*dsEPwavetide0m.EPx\n",
    "xEPwavetide100m=1000*dsEPwavetide100m.EPx\n",
    "xEPwavetide200m=1000*dsEPwavetide200m.EPx\n",
    "xEPwavetide300m=1000*dsEPwavetide300m.EPx\n",
    "xEPwavetide400m=1000*dsEPwavetide400m.EPx\n",
    "xEPwavetide500m=1000*dsEPwavetide500m.EPx\n",
    "xEPwavetide1000m=1000*dsEPwavetide1000m.EPx\n",
    "#xEPwavetide1500m=dsEPwavetide1500m.EPx\n",
    "xEPwavetide2000m=1000*dsEPwavetide2000m.EPx\n",
    "xEPwavetide2500m=1000*dsEPwavetide2500m.EPx\n",
    "xEPwavetide3000m=1000*dsEPwavetide3000m.EPx\n",
    "xEPwavetide3500m=1000*dsEPwavetide3500m.EPx\n",
    "\n",
    "yEPwavetide0m=1000*dsEPwavetide0m.EPy\n",
    "yEPwavetide100m=1000*dsEPwavetide100m.EPy\n",
    "yEPwavetide200m=1000*dsEPwavetide200m.EPy\n",
    "yEPwavetide300m=1000*dsEPwavetide300m.EPy\n",
    "yEPwavetide400m=1000*dsEPwavetide400m.EPy\n",
    "yEPwavetide500m=1000*dsEPwavetide500m.EPy\n",
    "yEPwavetide1000m=1000*dsEPwavetide1000m.EPy\n",
    "#yEPwavetide1500m=dsEPwavetide1500m.EPy\n",
    "yEPwavetide2000m=1000*dsEPwavetide2000m.EPy\n",
    "yEPwavetide2500m=1000*dsEPwavetide2500m.EPy\n",
    "yEPwavetide3000m=1000*dsEPwavetide3000m.EPy\n",
    "yEPwavetide3500m=1000*dsEPwavetide3500m.EPy\n"
   ]
  },
  {
   "cell_type": "code",
   "execution_count": 6,
   "metadata": {},
   "outputs": [],
   "source": [
    "xEPwavenotide0m=1000*dsEPwavenotide0m.EPx\n",
    "xEPwavenotide100m=1000*dsEPwavenotide100m.EPx\n",
    "xEPwavenotide200m=1000*dsEPwavenotide200m.EPx\n",
    "xEPwavenotide300m=1000*dsEPwavenotide300m.EPx\n",
    "xEPwavenotide400m=1000*dsEPwavenotide400m.EPx\n",
    "xEPwavenotide500m=1000*dsEPwavenotide500m.EPx\n",
    "xEPwavenotide1000m=1000*dsEPwavenotide1000m.EPx\n",
    "#xEPwavenotide1500m=dsEPwavenotide1500m.EPx\n",
    "xEPwavenotide2000m=1000*dsEPwavenotide2000m.EPx\n",
    "xEPwavenotide2500m=1000*dsEPwavenotide2500m.EPx\n",
    "xEPwavenotide3000m=1000*dsEPwavenotide3000m.EPx\n",
    "xEPwavenotide3500m=1000*dsEPwavenotide3500m.EPx\n",
    "\n",
    "yEPwavenotide0m=1000*dsEPwavenotide0m.EPy\n",
    "yEPwavenotide100m=1000*dsEPwavenotide100m.EPy\n",
    "yEPwavenotide200m=1000*dsEPwavenotide200m.EPy\n",
    "yEPwavenotide300m=1000*dsEPwavenotide300m.EPy\n",
    "yEPwavenotide400m=1000*dsEPwavenotide400m.EPy\n",
    "yEPwavenotide500m=1000*dsEPwavenotide500m.EPy\n",
    "yEPwavenotide1000m=1000*dsEPwavenotide1000m.EPy\n",
    "#yEPwavenotide1500m=dsEPwavenotide1500m.EPy\n",
    "yEPwavenotide2000m=1000*dsEPwavenotide2000m.EPy\n",
    "yEPwavenotide2500m=1000*dsEPwavenotide2500m.EPy\n",
    "yEPwavenotide3000m=1000*dsEPwavenotide3000m.EPy\n",
    "yEPwavenotide3500m=1000*dsEPwavenotide3500m.EPy\n"
   ]
  },
  {
   "cell_type": "code",
   "execution_count": 7,
   "metadata": {},
   "outputs": [
    {
     "name": "stderr",
     "output_type": "stream",
     "text": [
      "/home/albert/anaconda2/lib/python2.7/site-packages/xarray/core/indexing.py:1174: PerformanceWarning: Slicing with an out-of-order index is generating 216 times more chunks\n",
      "  value = value[(slice(None),) * axis + (subkey,)]\n"
     ]
    }
   ],
   "source": [
    "navlat= dsEPwavenotide100m['nav_lat']\n",
    "navlon= dsEPwavenotide100m['nav_lon']\n",
    "\n",
    "box=(-31,-28,33,36)\n",
    "domain=(box[0]<navlon)*(navlon<box[1])*(box[2]<navlat)*(navlat<box[3])\n",
    "where=np.where(domain)\n",
    "\n",
    "lats=navlat[where]\n",
    "lons=navlon[where]\n",
    "\n",
    "ind = np.unravel_index(np.argmin(lats, axis=None), lats.shape)\n",
    "jmin = where[0][ind[0]]\n",
    "ind = np.unravel_index(np.argmax(lats, axis=None), lats.shape)\n",
    "jmax = where[0][ind[0]]\n",
    "ind = np.unravel_index(np.argmin(lons, axis=None), lons.shape)\n",
    "imin = where[1][ind[1]]\n",
    "ind = np.unravel_index(np.argmax(lons, axis=None), lons.shape)\n",
    "imax = where[1][ind[1]]\n"
   ]
  },
  {
   "cell_type": "code",
   "execution_count": 8,
   "metadata": {},
   "outputs": [
    {
     "data": {
      "text/plain": [
       "(744, 1191, 781)"
      ]
     },
     "execution_count": 8,
     "metadata": {},
     "output_type": "execute_result"
    }
   ],
   "source": [
    "xEPwavenotide100m.shape"
   ]
  },
  {
   "cell_type": "code",
   "execution_count": 9,
   "metadata": {},
   "outputs": [],
   "source": [
    "profile_xEPnotide=[np.mean(xEPwavenotide0m[:,jmin:jmax+1,imin:imax+1]).values,np.mean(xEPwavenotide100m[:,jmin:jmax+1,imin:imax+1]).values, np.mean(xEPwavenotide200m[:,jmin:jmax+1,imin:imax+1]).values, np.mean(xEPwavenotide300m[:,jmin:jmax+1,imin:imax+1]).values, np.mean(xEPwavenotide400m[:,jmin:jmax+1,imin:imax+1]), np.mean(xEPwavenotide500m[:,jmin:jmax+1,imin:imax+1]).values, np.mean(xEPwavenotide1000m[:,jmin:jmax+1,imin:imax+1]).values, np.mean(xEPwavenotide2000m[:,jmin:jmax+1,imin:imax+1]).values, np.mean(xEPwavenotide2500m[:,jmin:jmax+1,imin:imax+1]).values, np.mean(xEPwavenotide3000m[:,jmin:jmax+1,imin:imax+1]).values, np.mean(xEPwavenotide3500m[:,jmin:jmax+1,imin:imax+1]).values ]\n",
    "profile_yEPnotide=[np.mean(yEPwavenotide0m[:,jmin:jmax+1,imin:imax+1]).values,np.mean(yEPwavenotide100m[:,jmin:jmax+1,imin:imax+1]).values, np.mean(yEPwavenotide200m[:,jmin:jmax+1,imin:imax+1]).values, np.mean(yEPwavenotide300m[:,jmin:jmax+1,imin:imax+1]).values, np.mean(yEPwavenotide400m[:,jmin:jmax+1,imin:imax+1]), np.mean(yEPwavenotide500m[:,jmin:jmax+1,imin:imax+1]).values, np.mean(yEPwavenotide1000m[:,jmin:jmax+1,imin:imax+1]).values, np.mean(yEPwavenotide2000m[:,jmin:jmax+1,imin:imax+1]).values, np.mean(yEPwavenotide2500m[:,jmin:jmax+1,imin:imax+1]).values, np.mean(yEPwavenotide3000m[:,jmin:jmax+1,imin:imax+1]).values, np.mean(yEPwavenotide3500m[:,jmin:jmax+1,imin:imax+1]).values ]"
   ]
  },
  {
   "cell_type": "code",
   "execution_count": 10,
   "metadata": {},
   "outputs": [],
   "source": [
    "profile_xEPtide=[np.mean(xEPwavetide0m[:,jmin:jmax+1,imin:imax+1]).values,np.mean(xEPwavetide100m[:,jmin:jmax+1,imin:imax+1]).values, np.mean(xEPwavetide200m[:,jmin:jmax+1,imin:imax+1]).values, np.mean(xEPwavetide300m[:,jmin:jmax+1,imin:imax+1]).values, np.mean(xEPwavetide400m[:,jmin:jmax+1,imin:imax+1]), np.mean(xEPwavetide500m[:,jmin:jmax+1,imin:imax+1]).values, np.mean(xEPwavetide1000m[:,jmin:jmax+1,imin:imax+1]).values, np.mean(xEPwavetide2000m[:,jmin:jmax+1,imin:imax+1]).values, np.mean(xEPwavetide2500m[:,jmin:jmax+1,imin:imax+1]).values, np.mean(xEPwavetide3000m[:,jmin:jmax+1,imin:imax+1]).values, np.mean(xEPwavetide3500m[:,jmin:jmax+1,imin:imax+1]).values ]\n",
    "profile_yEPtide=[np.mean(yEPwavetide0m[:,jmin:jmax+1,imin:imax+1]).values,np.mean(yEPwavetide100m[:,jmin:jmax+1,imin:imax+1]).values, np.mean(yEPwavetide200m[:,jmin:jmax+1,imin:imax+1]).values, np.mean(yEPwavetide300m[:,jmin:jmax+1,imin:imax+1]).values, np.mean(yEPwavetide400m[:,jmin:jmax+1,imin:imax+1]), np.mean(yEPwavetide500m[:,jmin:jmax+1,imin:imax+1]).values, np.mean(yEPwavetide1000m[:,jmin:jmax+1,imin:imax+1]).values, np.mean(yEPwavetide2000m[:,jmin:jmax+1,imin:imax+1]).values, np.mean(yEPwavetide2500m[:,jmin:jmax+1,imin:imax+1]).values, np.mean(yEPwavetide3000m[:,jmin:jmax+1,imin:imax+1]).values, np.mean(yEPwavetide3500m[:,jmin:jmax+1,imin:imax+1]).values ]"
   ]
  },
  {
   "cell_type": "code",
   "execution_count": 14,
   "metadata": {},
   "outputs": [
    {
     "data": {
      "image/png": "[encoded data removed]",
      "text/plain": [
       "<Figure size 720x720 with 4 Axes>"
      ]
     },
     "metadata": {
      "needs_background": "light"
     },
     "output_type": "display_data"
    }
   ],
   "source": [
    "fig=plt.figure(figsize=(10,10))\n",
    "\n",
    "gs = gridspec.GridSpec(2, 2, width_ratios=[1, 1], height_ratios=[2, 3], hspace=0.05) \n",
    "\n",
    "ax = plt.subplot(gs[0])\n",
    "levels=[0,100,200,300,400,500]\n",
    "plt.plot(profile_xEPnotide[0:6],levels,'k-',label='zonal')\n",
    "plt.plot(profile_yEPnotide[0:6],levels,'k--',label='meridional')\n",
    "ax.set_ylim([500, 0])\n",
    "ax.set_xlim([-1e-5, 1e-5])\n",
    "ax.set_xticklabels([])\n",
    "plt.yticks([0,100,200,300,400,500])\n",
    "#plt.xticks([-2e-4,-1e-4,0,1e-4,2e-4])\n",
    "plt.legend()\n",
    "plt.title('no tides')\n",
    "plt.grid(True)\n",
    "\n",
    "ax = plt.subplot(gs[2])\n",
    "levels=[500,1000,2000,2500,3000,3500]\n",
    "plt.plot(profile_xEPnotide[5:],levels,'k-',label='zonal')\n",
    "plt.plot(profile_yEPnotide[5:],levels,'k--',label='meridional')\n",
    "plt.grid(True)\n",
    "ax.set_ylim([3500, 500])\n",
    "ax.set_xlim([-1e-5, 1e-5])\n",
    "#plt.xticks([-2e-4,-1e-4,0,1e-4,2e-4])\n",
    "\n",
    "ax = plt.subplot(gs[1])\n",
    "levels=[0,100,200,300,400,500]\n",
    "plt.plot(profile_xEPtide[0:6],levels,'k-',label='zonal')\n",
    "plt.plot(profile_yEPtide[0:6],levels,'k--',label='meridional')\n",
    "ax.set_ylim([500, 0])\n",
    "ax.set_xlim([-4e-2, 4e-2])\n",
    "#plt.xticks([-2e-3,-1e-3,0,1e-3,2e-3])\n",
    "ax.set_xticklabels([])\n",
    "plt.yticks([0,100,200,300,400,500])\n",
    "plt.legend()\n",
    "plt.title('with tides')\n",
    "plt.grid(True)\n",
    "\n",
    "ax = plt.subplot(gs[3])\n",
    "levels=[500,1000,2000,2500,3000,3500]\n",
    "plt.plot(profile_xEPtide[5:],levels,'k-',label='zonal')\n",
    "plt.plot(profile_yEPtide[5:],levels,'k--',label='meridional')\n",
    "ax.set_ylim([3500, 500])\n",
    "ax.set_xlim([-4e-2, 4e-2])\n",
    "#plt.xticks([-2e-3,-1e-3,0,1e-3,2e-3])\n",
    "plt.grid(True)"
   ]
  },
  {
   "cell_type": "code",
   "execution_count": null,
   "metadata": {},
   "outputs": [],
   "source": []
  }
 ],
 "metadata": {
  "kernelspec": {
   "display_name": "Python [Root]",
   "language": "python",
   "name": "Python [Root]"
  },
  "language_info": {
   "codemirror_mode": {
    "name": "ipython",
    "version": 2
   },
   "file_extension": ".py",
   "mimetype": "text/x-python",
   "name": "python",
   "nbconvert_exporter": "python",
   "pygments_lexer": "ipython2",
   "version": "2.7.15"
  }
 },
 "nbformat": 4,
 "nbformat_minor": 2
}
