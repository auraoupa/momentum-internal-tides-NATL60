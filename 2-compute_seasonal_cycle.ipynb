{
 "cells": [
  {
   "cell_type": "code",
   "execution_count": 1,
   "metadata": {},
   "outputs": [],
   "source": [
    "import xarray as xr\n",
    "import now\n",
    "import xscale.signal.fitting as xfit\n",
    "from dask.distributed import LocalCluster, Client"
   ]
  },
  {
   "cell_type": "markdown",
   "metadata": {},
   "source": [
    "## Starting a Local Cluster with dask.distributed\n",
    "Here we will define a local cluster on the NCI Virtual Desktop and choose to use multithreading on the 8 cores available. Multithreading is achieved by setting `processes` to `False`. Since dask workers may write exceeding bits of data that not fit in the memory to the drive, we set the `local_dir` to the /g/data1/e14. More information about how to set a Local Cluster with dask is given [here](http://docs.dask.org/en/latest/setup/single-distributed.html). "
   ]
  },
  {
   "cell_type": "code",
   "execution_count": 2,
   "metadata": {},
   "outputs": [],
   "source": [
    "local_dir = \"/g/data1/e14/gs9353/dask-workers/\"\n",
    "cluster = LocalCluster(processes=False, local_dir=local_dir)"
   ]
  },
  {
   "cell_type": "markdown",
   "metadata": {},
   "source": [
    "Creating a scheduler linked to the previous cluster can be done creating an instance of the `Client` object. Calling `Client()` also create an associated dask taskboard, which is accessible via an IP address."
   ]
  },
  {
   "cell_type": "code",
   "execution_count": 3,
   "metadata": {},
   "outputs": [
    {
     "data": {
      "text/html": [
       "<table style=\"border: 2px solid white;\">\n",
       "<tr>\n",
       "<td style=\"vertical-align: top; border: 0px solid white\">\n",
       "<h3>Client</h3>\n",
       "<ul>\n",
       "  <li><b>Scheduler: </b>inproc://10.0.64.3/930/1\n",
       "  <li><b>Dashboard: </b><a href='http://localhost:8787/status' target='_blank'>http://localhost:8787/status</a>\n",
       "</ul>\n",
       "</td>\n",
       "<td style=\"vertical-align: top; border: 0px solid white\">\n",
       "<h3>Cluster</h3>\n",
       "<ul>\n",
       "  <li><b>Workers: </b>1</li>\n",
       "  <li><b>Cores: </b>8</li>\n",
       "  <li><b>Memory: </b>33.67 GB</li>\n",
       "</ul>\n",
       "</td>\n",
       "</tr>\n",
       "</table>"
      ],
      "text/plain": [
       "<Client: scheduler='inproc://10.0.64.3/930/1' processes=1 cores=8>"
      ]
     },
     "execution_count": 3,
     "metadata": {},
     "output_type": "execute_result"
    }
   ],
   "source": [
    "client = Client(cluster)\n",
    "client"
   ]
  },
  {
   "cell_type": "markdown",
   "metadata": {},
   "source": [
    "## Choosing a configuration file"
   ]
  },
  {
   "cell_type": "code",
   "execution_count": 5,
   "metadata": {},
   "outputs": [],
   "source": [
    "config_file = '/g/data1/e14/gs9353/CONFIG/ecl_study.ini'"
   ]
  },
  {
   "cell_type": "markdown",
   "metadata": {},
   "source": [
    "## Compute the mean state"
   ]
  },
  {
   "cell_type": "code",
   "execution_count": 7,
   "metadata": {},
   "outputs": [],
   "source": [
    "test = now.io.open_nemo_griddata_from_zarr(config_file, grid='T')"
   ]
  },
  {
   "cell_type": "code",
   "execution_count": 9,
   "metadata": {},
   "outputs": [
    {
     "name": "stderr",
     "output_type": "stream",
     "text": [
      "/g/data1/e14/gs9353/miniconda3/envs/nemo_env/lib/python3.6/site-packages/dask/array/numpy_compat.py:28: RuntimeWarning: invalid value encountered in true_divide\n",
      "  x = np.divide(x1, x2, out)\n"
     ]
    },
    {
     "name": "stdout",
     "output_type": "stream",
     "text": [
      "<xarray.Dataset>\n",
      "Dimensions:     (simulation: 3, x: 431, y: 289)\n",
      "Coordinates:\n",
      "    nav_lat     (y, x) float32 -43.27347 -43.37204 ... 14.78277 14.848713\n",
      "    nav_lon     (y, x) float32 82.76912 83.00413 ... -175.2138 -175.04564\n",
      "  * simulation  (simulation) <U19 'Present' 'No Current Feedback' 'Future'\n",
      "Dimensions without coordinates: x, y\n",
      "Data variables:\n",
      "    20d         (simulation, y, x) float32 nan nan nan nan ... nan nan nan nan\n",
      "    blt         (simulation, y, x) float32 nan nan nan nan ... nan nan nan nan\n",
      "    depti       (simulation, y, x) float32 nan nan nan nan ... nan nan nan nan\n",
      "    mld_dt02    (simulation, y, x) float32 nan nan nan nan ... nan nan nan nan\n",
      "    mldkz5      (simulation, y, x) float32 nan nan nan nan ... nan nan nan nan\n",
      "    mldr10_1    (simulation, y, x) float32 nan nan nan nan ... nan nan nan nan\n",
      "    mldr10_3    (simulation, y, x) float32 nan nan nan nan ... nan nan nan nan\n",
      "    pycndep     (simulation, y, x) float32 nan nan nan nan ... nan nan nan nan\n",
      "    rsntds      (simulation, y, x) float32 nan nan nan nan ... nan nan nan nan\n",
      "    sos         (simulation, y, x) float32 nan nan nan nan ... nan nan nan nan\n",
      "    taum        (simulation, y, x) float32 nan nan nan nan ... nan nan nan nan\n",
      "    tinv        (simulation, y, x) float32 nan nan nan nan ... nan nan nan nan\n",
      "    tohfls      (simulation, y, x) float32 nan nan nan nan ... nan nan nan nan\n",
      "    topthdep    (simulation, y, x) float32 nan nan nan nan ... nan nan nan nan\n",
      "    tos         (simulation, y, x) float32 nan nan nan nan ... nan nan nan nan\n",
      "    tos_max     (simulation, y, x) float32 nan nan nan nan ... nan nan nan nan\n",
      "    tos_min     (simulation, y, x) float32 nan nan nan nan ... nan nan nan nan\n",
      "    tossq       (simulation, y, x) float32 nan nan nan nan ... nan nan nan nan\n",
      "    wfo         (simulation, y, x) float32 nan nan nan nan ... nan nan nan nan\n",
      "    zos         (simulation, y, x) float32 nan nan nan nan ... nan nan nan nan\n"
     ]
    }
   ],
   "source": [
    "mean_test = test.mean('time_counter').compute()\n",
    "print(mean_test)"
   ]
  },
  {
   "cell_type": "markdown",
   "metadata": {},
   "source": [
    "### NEMO"
   ]
  },
  {
   "cell_type": "code",
   "execution_count": 5,
   "metadata": {},
   "outputs": [
    {
     "name": "stderr",
     "output_type": "stream",
     "text": [
      "/g/data1/e14/gs9353/miniconda3/envs/nemo_env/lib/python3.6/site-packages/dask/array/numpy_compat.py:28: RuntimeWarning: invalid value encountered in true_divide\n",
      "  x = np.divide(x1, x2, out)\n",
      "/g/data1/e14/gs9353/miniconda3/envs/nemo_env/lib/python3.6/site-packages/dask/array/numpy_compat.py:28: RuntimeWarning: invalid value encountered in true_divide\n",
      "  x = np.divide(x1, x2, out)\n"
     ]
    }
   ],
   "source": [
    "for grid in ['U', 'V']:\n",
    "    griddata = now.io.open_nemo_griddata_from_zarr(config_file, grid=grid)\n",
    "    griddata_mean = griddata.mean('time_counter')\n",
    "    output_name = 'CURRENT_FEEDBACK_NEMO_1990-2008_1d_grid_%s_3D_mean.nc' %grid\n",
    "    now.io.to_postprocess(griddata_mean, config_file, output_name, type='netcdf')"
   ]
  },
  {
   "cell_type": "markdown",
   "metadata": {},
   "source": [
    "## Compute the linear trend"
   ]
  },
  {
   "cell_type": "code",
   "execution_count": 20,
   "metadata": {},
   "outputs": [
    {
     "name": "stderr",
     "output_type": "stream",
     "text": [
      "/g/data1/e14/gs9353/miniconda3/envs/nemo_env/lib/python3.6/site-packages/dask/array/linalg.py:1095: FutureWarning: `rcond` parameter will change to the default of machine precision times ``max(M, N)`` where M and N are the input matrix dimensions.\n",
      "To use the future default and silence this warning we advise to pass `rcond=None`, to keep using the old, explicitly pass `rcond=-1`.\n",
      "  np.array([0, 1], dtype=b.dtype))\n",
      "/g/data1/e14/gs9353/miniconda3/envs/nemo_env/lib/python3.6/site-packages/dask/array/linalg.py:1095: FutureWarning: `rcond` parameter will change to the default of machine precision times ``max(M, N)`` where M and N are the input matrix dimensions.\n",
      "To use the future default and silence this warning we advise to pass `rcond=None`, to keep using the old, explicitly pass `rcond=-1`.\n",
      "  np.array([0, 1], dtype=b.dtype))\n",
      "/g/data1/e14/gs9353/miniconda3/envs/nemo_env/lib/python3.6/site-packages/dask/array/linalg.py:1095: FutureWarning: `rcond` parameter will change to the default of machine precision times ``max(M, N)`` where M and N are the input matrix dimensions.\n",
      "To use the future default and silence this warning we advise to pass `rcond=None`, to keep using the old, explicitly pass `rcond=-1`.\n",
      "  np.array([0, 1], dtype=b.dtype))\n"
     ]
    }
   ],
   "source": [
    "for grid in ['U', 'V', 'T']:\n",
    "    griddata = now.io.open_nemo_griddata_from_zarr(config_file, grid=grid)\n",
    "    if grid is 'T':\n",
    "        griddata = griddata.drop(('time_maximum_1d', 'time_minimum_1d'))\n",
    "    griddata_trend, _ = xfit.linreg(griddata, dim='time_counter')\n",
    "    output_name = 'ECL_NEMO_1990-2008_1d_grid_%s_2D_trend_slope.zarr' %grid\n",
    "    now.io.to_postprocess(griddata_trend, config_file, output_name, type='zarr')"
   ]
  },
  {
   "cell_type": "markdown",
   "metadata": {},
   "source": [
    "## Compute the climatological cycle"
   ]
  },
  {
   "cell_type": "markdown",
   "metadata": {},
   "source": [
    "### NEMO"
   ]
  },
  {
   "cell_type": "code",
   "execution_count": 21,
   "metadata": {},
   "outputs": [
    {
     "name": "stderr",
     "output_type": "stream",
     "text": [
      "/g/data1/e14/gs9353/miniconda3/envs/nemo_env/lib/python3.6/site-packages/dask/array/numpy_compat.py:28: RuntimeWarning: invalid value encountered in true_divide\n",
      "  x = np.divide(x1, x2, out)\n",
      "/g/data1/e14/gs9353/miniconda3/envs/nemo_env/lib/python3.6/site-packages/dask/array/numpy_compat.py:28: RuntimeWarning: divide by zero encountered in true_divide\n",
      "  x = np.divide(x1, x2, out)\n",
      "/g/data1/e14/gs9353/miniconda3/envs/nemo_env/lib/python3.6/site-packages/dask/array/numpy_compat.py:28: RuntimeWarning: divide by zero encountered in true_divide\n",
      "  x = np.divide(x1, x2, out)\n",
      "/g/data1/e14/gs9353/miniconda3/envs/nemo_env/lib/python3.6/site-packages/dask/array/numpy_compat.py:28: RuntimeWarning: invalid value encountered in true_divide\n",
      "  x = np.divide(x1, x2, out)\n",
      "distributed.comm.inproc - WARNING - Closing dangling queue in <InProc local=inproc://10.0.64.22/10667/18 remote=inproc://10.0.64.22/10667/1>\n",
      "distributed.comm.inproc - WARNING - Closing dangling queue in <InProc local=inproc://10.0.64.22/10667/19 remote=inproc://10.0.64.22/10667/1>\n",
      "distributed.comm.inproc - WARNING - Closing dangling queue in <InProc local=inproc://10.0.64.22/10667/10 remote=inproc://10.0.64.22/10667/1>\n",
      "distributed.comm.inproc - WARNING - Closing dangling queue in <InProc local=inproc://10.0.64.22/10667/11 remote=inproc://10.0.64.22/10667/1>\n",
      "distributed.comm.inproc - WARNING - Closing dangling queue in <InProc local=inproc://10.0.64.22/10667/12 remote=inproc://10.0.64.22/10667/1>\n",
      "distributed.comm.inproc - WARNING - Closing dangling queue in <InProc local=inproc://10.0.64.22/10667/13 remote=inproc://10.0.64.22/10667/1>\n",
      "distributed.comm.inproc - WARNING - Closing dangling queue in <InProc local=inproc://10.0.64.22/10667/14 remote=inproc://10.0.64.22/10667/1>\n",
      "distributed.comm.inproc - WARNING - Closing dangling queue in <InProc local=inproc://10.0.64.22/10667/15 remote=inproc://10.0.64.22/10667/1>\n",
      "distributed.comm.inproc - WARNING - Closing dangling queue in <InProc local=inproc://10.0.64.22/10667/16 remote=inproc://10.0.64.22/10667/1>\n",
      "distributed.comm.inproc - WARNING - Closing dangling queue in <InProc local=inproc://10.0.64.22/10667/17 remote=inproc://10.0.64.22/10667/1>\n",
      "/g/data1/e14/gs9353/miniconda3/envs/nemo_env/lib/python3.6/site-packages/dask/array/numpy_compat.py:28: RuntimeWarning: divide by zero encountered in true_divide\n",
      "  x = np.divide(x1, x2, out)\n",
      "/g/data1/e14/gs9353/miniconda3/envs/nemo_env/lib/python3.6/site-packages/dask/array/numpy_compat.py:28: RuntimeWarning: invalid value encountered in true_divide\n",
      "  x = np.divide(x1, x2, out)\n"
     ]
    }
   ],
   "source": [
    "for grid in ['U', 'V', 'T']:\n",
    "    griddata = now.io.open_nemo_griddata_from_zarr(config_file, grid=grid)\n",
    "    griddata_seasonal_cycle = griddata.drop(('nav_lon', 'nav_lat'))\\\n",
    "                                      .groupby('time_counter.dayofyear')\\\n",
    "                                      .mean('time_counter')\n",
    "    griddata_seasonal_cycle = griddata_seasonal_cycle.assign_coords(nav_lon=griddata['nav_lon'].chunk(), \n",
    "                                                                    nav_lat=griddata['nav_lat'].chunk())\n",
    "    output_name = 'ECL_NEMO_1990-2008_1d_grid_%s_2D_seasonal_cycle.zarr' %grid\n",
    "    now.io.to_postprocess(griddata_seasonal_cycle, config_file, output_name, type='zarr')"
   ]
  },
  {
   "cell_type": "markdown",
   "metadata": {},
   "source": [
    "## Make a smooth version of the seasonal cycle\n",
    "Because the seasonal cycle computed over 1 day outputs is noisy, a smoothed version is made using a simple boxcar window."
   ]
  },
  {
   "cell_type": "code",
   "execution_count": 22,
   "metadata": {},
   "outputs": [],
   "source": [
    "for grid in ['U', 'V', 'T']:\n",
    "    griddata_seasonal_cycle = xr.open_zarr('/g/data1/e14/gs9353/POST-PROCESS/ECLs/ECL_NEMO_1990-2008_1d_grid_%s_2D_seasonal_cycle.zarr/'% grid)\n",
    "    win = griddata_seasonal_cycle.window\n",
    "    win.set(n=21, dim='dayofyear', chunks={'dayofyear': 35})\n",
    "    output_name = 'ECL_NEMO_1990-2008_1d_grid_%s_2D_seasonal_cycle_20d_smooth.zarr' %grid\n",
    "    now.io.to_postprocess(win.convolve(), config_file, output_name, type='zarr', o)"
   ]
  },
  {
   "cell_type": "code",
   "execution_count": null,
   "metadata": {},
   "outputs": [],
   "source": []
  }
 ],
 "metadata": {
  "kernelspec": {
   "display_name": "Python 3",
   "language": "python",
   "name": "python3"
  },
  "language_info": {
   "codemirror_mode": {
    "name": "ipython",
    "version": 3
   },
   "file_extension": ".py",
   "mimetype": "text/x-python",
   "name": "python",
   "nbconvert_exporter": "python",
   "pygments_lexer": "ipython3",
   "version": "3.6.7"
  }
 },
 "nbformat": 4,
 "nbformat_minor": 2
}
