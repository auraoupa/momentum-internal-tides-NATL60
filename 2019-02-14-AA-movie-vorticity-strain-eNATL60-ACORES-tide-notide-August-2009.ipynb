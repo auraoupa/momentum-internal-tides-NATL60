{
 "cells": [
  {
   "cell_type": "markdown",
   "metadata": {},
   "source": [
    "# Movies of surface vorticity and strain in eNATL60 simulation with tides and no tides in ACORES region \n",
    "\n",
    "__author__ : Aurélie Albert, Julien Le Sommer (MEOM), Andy Hogg (ANU)\n",
    "\n",
    "__context__ : paper \"On the momentum flux of internal tides\" by Shakespeare & Hogg\n",
    "\n",
    "__date__ : February 2019\n",
    "\n",
    "__purpose__ : distribution of surface vorticity and strain values in eNATL60 simulation with tides and no tides in the ACORES region \n",
    "\n",
    "__detailed description__ : \n",
    "Vorticity is defined as :\n",
    "\n",
    "$$curl = \\partial{_x}{v} - \\partial{_y}{u} $$\n",
    "\n",
    "Strain is defined as :\n",
    "\n",
    "$$strain = \\sqrt{ (\\partial{_x}{v}+\\partial{_y}{u})^2 + (\\partial{_x}{u}-\\partial{_y}{v})^2 } $$\n",
    "\n",
    "Both quantities are scale by f.\n",
    "\n",
    "__practical steps__ :\n",
    "\n",
    "  * Input data are hourly surface currents from eNATL60-BLB002 simulation (no-tide) and eNTAL60-BLBT02 simulation (tide) \n",
    "  \n",
    "  * Surface vorticity and strain over f are computed with cdfcurl and cdfstrain cdftool : https://github.com/meom-group/CDFTOOLS) for the first two weeks of August 2009\n",
    "  \n",
    "  \n",
    "__external libraries needed to run this script__ : \n",
    "\n",
    " \n",
    "__licence__ : This work is licensed under a <a rel=\"license\" href=\"http://creativecommons.org/licenses/by/4.0/\">Creative Commons Attribution 4.0 International License</a>."
   ]
  },
  {
   "cell_type": "code",
   "execution_count": 1,
   "metadata": {},
   "outputs": [],
   "source": [
    "## path for mdules\n",
    "\n",
    "import sys\n",
    "sys.path.insert(0,\"/home/albert/lib/python\")\n",
    "\n",
    "import numpy as np\n",
    "import xarray as xr\n",
    "\n",
    "import cartopy.crs as ccrs\n",
    "import cartopy.feature as cfeature\n",
    "from cartopy.mpl.gridliner import LONGITUDE_FORMATTER, LATITUDE_FORMATTER\n",
    "\n",
    "import numpy.ma as ma\n",
    "\n",
    "import matplotlib.cm as mplcm\n",
    "\n",
    "seq_cmap = mplcm.Blues\n",
    "div_cmap = mplcm.seismic\n",
    "\n",
    "import matplotlib.pyplot as plt\n",
    "\n",
    "import seaborn as sns\n",
    "sns.set(color_codes=True)\n",
    "\n",
    "%matplotlib inline"
   ]
  },
  {
   "cell_type": "code",
   "execution_count": 3,
   "metadata": {},
   "outputs": [],
   "source": [
    "## Dataset\n",
    "\n",
    "dirtide=\"/mnt/albert/equipes/IGE/meom/MODEL_SET/eNATL60/eNATL60-BLBT02-S/1h/ACO/\"\n",
    "dirnotide=\"/mnt/albert/equipes/IGE/meom/MODEL_SET/eNATL60/eNATL60-BLB002-S/1h/ACO/\"\n",
    "\n"
   ]
  },
  {
   "cell_type": "code",
   "execution_count": 4,
   "metadata": {},
   "outputs": [],
   "source": [
    "filescurltide=\"eNATL60ACO-BLBT02_1h_*_socurloverf_*.nc\"\n",
    "filesstraintide=\"eNATL60ACO-BLBT02_1h_*_sostrainoverf_*.nc\"\n",
    "\n",
    "tfilescurltide=dirtide+filescurltide\n",
    "tfilesstraintide=dirtide+filesstraintide\n",
    "\n",
    "filescurlnotide=\"eNATL60ACO-BLB002_1h_*_socurloverf_*.nc\"\n",
    "filesstrainnotide=\"eNATL60ACO-BLB002_1h_*_sostrainoverf_*.nc\"\n",
    "\n",
    "tfilescurlnotide=dirnotide+filescurlnotide\n",
    "tfilesstrainnotide=dirnotide+filesstrainnotide\n"
   ]
  },
  {
   "cell_type": "code",
   "execution_count": 5,
   "metadata": {},
   "outputs": [],
   "source": [
    "def plot_surf(sub,data,lon,lat,vmin,vmax,cmap,title,date):\n",
    "    \n",
    "    ax = plt.subplot(sub,projection=ccrs.PlateCarree(central_longitude=0))\n",
    "    ax.set_extent((-36, -26, 25, 40))\n",
    "    land = cfeature.GSHHSFeature(scale='intermediate',\n",
    "                                 levels=[1],\n",
    "                                 facecolor=cfeature.COLORS['land'])\n",
    "    ax.add_feature(land)\n",
    "    gl = ax.gridlines(draw_labels=True, linestyle=':', color='black',\n",
    "                      alpha=0.5)\n",
    "    gl.xlabels_top = False\n",
    "    gl.ylabels_right = False\n",
    "    gl.xformatter = LONGITUDE_FORMATTER\n",
    "    gl.yformatter = LATITUDE_FORMATTER\n",
    "    ax.tick_params('both',labelsize=22)\n",
    "\n",
    "    plt.pcolormesh(lon,lat,data,cmap=cmap,vmin=vmin,vmax=vmax )\n",
    "    plt.colorbar(orientation='horizontal',pad=0.1)\n",
    "    plt.title(title)\n",
    "    ax.text(0.57, -0.08, date, transform=ax.transAxes)\n",
    "\n",
    "    ax.plot([-31, -28], [33, 33],color='black',linewidth=4)\n",
    "    ax.plot([-31, -28], [36, 36],color='black',linewidth=4)\n",
    "    ax.plot([-31, -31], [33, 36],color='black',linewidth=4)\n",
    "    ax.plot([-28, -28], [33, 36],color='black',linewidth=4)\n"
   ]
  },
  {
   "cell_type": "code",
   "execution_count": 7,
   "metadata": {},
   "outputs": [],
   "source": [
    "def plot_comp_vort(k):\n",
    "    fig=plt.figure(figsize=(20,15))\n",
    "\n",
    "    fcurltide = xr.open_mfdataset(tfilescurltide)\n",
    "    curltide=fcurltide['socurloverf'][k]\n",
    "    navlat= fcurltide['nav_lat'][k]\n",
    "    navlon= fcurltide['nav_lon'][k]\n",
    "    plot_surf(121,curltide,navlon,navlat,-1,1,div_cmap,'Surface vorticity over f, with tide',str(curl15.time_counter.values))\n",
    "\n",
    "    fcurlnotide = xr.open_mfdataset(tfilescurlnotide)\n",
    "    curlnotide=fcurlnotide['socurloverf'][0]\n",
    "    plot_surf(122,curlnotide,navlon,navlat,-1,1,div_cmap,'Surface vorticity over f, no tide',str(curl15.time_counter.values))\n",
    "    plt.title('surfcurloverf_eNATL60_tide-notide_ACO_'+str(k)+'.png')\n"
   ]
  },
  {
   "cell_type": "code",
   "execution_count": 10,
   "metadata": {},
   "outputs": [],
   "source": [
    "def plot_comp_strain(k):\n",
    "    fig=plt.figure(figsize=(20,15))\n",
    "\n",
    "    fstraintide = xr.open_mfdataset(tfilesstraintide)\n",
    "    straintide=fstraintide['sostrainoverf'][k]\n",
    "    navlat= fstraintide['nav_lat'][k]\n",
    "    navlon= fstraintide['nav_lon'][k]\n",
    "    plot_surf(121,straintide,navlon,navlat,-1,1,div_cmap,'Surface strain over f, with tide',str(curl15.time_counter.values))\n",
    "\n",
    "    fstrainnotide = xr.open_mfdataset(tfilesstrainnotide)\n",
    "    strainnotide=fstrainnotide['sostrainoverf'][0]\n",
    "    plot_surf(122,strainnotide,navlon,navlat,-1,1,div_cmap,'Surface strain over f, no tide',str(curl15.time_counter.values))\n",
    "    plt.title('surfstrainoverf_eNATL60_tide-notide_ACO_'+str(k)+'.png')\n"
   ]
  },
  {
   "cell_type": "code",
   "execution_count": 8,
   "metadata": {},
   "outputs": [
    {
     "ename": "IOError",
     "evalue": "no files to open",
     "output_type": "error",
     "traceback": [
      "\u001b[1;31m---------------------------------------------------------------------------\u001b[0m",
      "\u001b[1;31mIOError\u001b[0m                                   Traceback (most recent call last)",
      "\u001b[1;32m<ipython-input-8-df056b196af1>\u001b[0m in \u001b[0;36m<module>\u001b[1;34m()\u001b[0m\n\u001b[1;32m----> 1\u001b[1;33m \u001b[0mplot_comp_vort\u001b[0m\u001b[1;33m(\u001b[0m\u001b[1;36m0\u001b[0m\u001b[1;33m)\u001b[0m\u001b[1;33m\u001b[0m\u001b[0m\n\u001b[0m",
      "\u001b[1;32m<ipython-input-7-031c92ed4832>\u001b[0m in \u001b[0;36mplot_comp_vort\u001b[1;34m(k)\u001b[0m\n\u001b[0;32m      2\u001b[0m     \u001b[0mfig\u001b[0m\u001b[1;33m=\u001b[0m\u001b[0mplt\u001b[0m\u001b[1;33m.\u001b[0m\u001b[0mfigure\u001b[0m\u001b[1;33m(\u001b[0m\u001b[0mfigsize\u001b[0m\u001b[1;33m=\u001b[0m\u001b[1;33m(\u001b[0m\u001b[1;36m20\u001b[0m\u001b[1;33m,\u001b[0m\u001b[1;36m15\u001b[0m\u001b[1;33m)\u001b[0m\u001b[1;33m)\u001b[0m\u001b[1;33m\u001b[0m\u001b[0m\n\u001b[0;32m      3\u001b[0m \u001b[1;33m\u001b[0m\u001b[0m\n\u001b[1;32m----> 4\u001b[1;33m     \u001b[0mfcurltide\u001b[0m \u001b[1;33m=\u001b[0m \u001b[0mxr\u001b[0m\u001b[1;33m.\u001b[0m\u001b[0mopen_mfdataset\u001b[0m\u001b[1;33m(\u001b[0m\u001b[0mtfilescurltide\u001b[0m\u001b[1;33m)\u001b[0m\u001b[1;33m\u001b[0m\u001b[0m\n\u001b[0m\u001b[0;32m      5\u001b[0m     \u001b[0mcurltide\u001b[0m\u001b[1;33m=\u001b[0m\u001b[0mfcurltide\u001b[0m\u001b[1;33m[\u001b[0m\u001b[1;34m'socurloverf'\u001b[0m\u001b[1;33m]\u001b[0m\u001b[1;33m[\u001b[0m\u001b[0mk\u001b[0m\u001b[1;33m]\u001b[0m\u001b[1;33m\u001b[0m\u001b[0m\n\u001b[0;32m      6\u001b[0m     \u001b[0mnavlat\u001b[0m\u001b[1;33m=\u001b[0m \u001b[0mfcurltide\u001b[0m\u001b[1;33m[\u001b[0m\u001b[1;34m'nav_lat'\u001b[0m\u001b[1;33m]\u001b[0m\u001b[1;33m[\u001b[0m\u001b[0mk\u001b[0m\u001b[1;33m]\u001b[0m\u001b[1;33m\u001b[0m\u001b[0m\n",
      "\u001b[1;32m/home/albert/anaconda2/lib/python2.7/site-packages/xarray/backends/api.pyc\u001b[0m in \u001b[0;36mopen_mfdataset\u001b[1;34m(paths, chunks, concat_dim, compat, preprocess, engine, lock, data_vars, coords, autoclose, parallel, **kwargs)\u001b[0m\n\u001b[0;32m    574\u001b[0m \u001b[1;33m\u001b[0m\u001b[0m\n\u001b[0;32m    575\u001b[0m     \u001b[1;32mif\u001b[0m \u001b[1;32mnot\u001b[0m \u001b[0mpaths\u001b[0m\u001b[1;33m:\u001b[0m\u001b[1;33m\u001b[0m\u001b[0m\n\u001b[1;32m--> 576\u001b[1;33m         \u001b[1;32mraise\u001b[0m \u001b[0mIOError\u001b[0m\u001b[1;33m(\u001b[0m\u001b[1;34m'no files to open'\u001b[0m\u001b[1;33m)\u001b[0m\u001b[1;33m\u001b[0m\u001b[0m\n\u001b[0m\u001b[0;32m    577\u001b[0m \u001b[1;33m\u001b[0m\u001b[0m\n\u001b[0;32m    578\u001b[0m     \u001b[1;32mif\u001b[0m \u001b[0mlock\u001b[0m \u001b[1;32mis\u001b[0m \u001b[0mNone\u001b[0m\u001b[1;33m:\u001b[0m\u001b[1;33m\u001b[0m\u001b[0m\n",
      "\u001b[1;31mIOError\u001b[0m: no files to open"
     ]
    },
    {
     "data": {
      "text/plain": [
       "<Figure size 1440x1080 with 0 Axes>"
      ]
     },
     "metadata": {},
     "output_type": "display_data"
    }
   ],
   "source": [
    "plot_comp_vort(0)"
   ]
  },
  {
   "cell_type": "code",
   "execution_count": null,
   "metadata": {},
   "outputs": [],
   "source": []
  }
 ],
 "metadata": {
  "kernelspec": {
   "display_name": "Python [anaconda2]",
   "language": "python",
   "name": "Python [anaconda2]"
  },
  "language_info": {
   "codemirror_mode": {
    "name": "ipython",
    "version": 2
   },
   "file_extension": ".py",
   "mimetype": "text/x-python",
   "name": "python",
   "nbconvert_exporter": "python",
   "pygments_lexer": "ipython2",
   "version": "2.7.15"
  }
 },
 "nbformat": 4,
 "nbformat_minor": 2
}
